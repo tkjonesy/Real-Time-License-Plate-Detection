{
 "cells": [
  {
   "cell_type": "code",
   "execution_count": 1,
   "id": "initial_id",
   "metadata": {
    "collapsed": true,
    "ExecuteTime": {
     "end_time": "2024-12-05T20:30:28.603321Z",
     "start_time": "2024-12-05T20:30:26.880512Z"
    }
   },
   "outputs": [],
   "source": [
    "import cv2\n",
    "import easyocr\n",
    "import re"
   ]
  },
  {
   "cell_type": "code",
   "outputs": [],
   "source": [
    "def readLargestPlateText(plateThresh, reader):\n",
    "    result = reader.readtext(plateThresh)\n",
    "    \n",
    "    maxArea = 0\n",
    "    largestText = 'No Detection'\n",
    "    largestTextConfidence = 0\n",
    "    \n",
    "    for bbox, text, confidence in result:\n",
    "        # Get box Coords\n",
    "        x1, y1 = bbox[0]\n",
    "        x2, y2 = bbox[-2]\n",
    "        \n",
    "        # Calculate area\n",
    "        area = (x2 - x1) * (y2 - y1)\n",
    "        \n",
    "        # Update area if needed\n",
    "        if area > maxArea:\n",
    "            maxArea = area\n",
    "            largestText = text.upper()\n",
    "            largestTextConfidence = confidence\n",
    "            \n",
    "    # Remove non-alphanumeric characters\n",
    "    cleanText = re.sub(r'[^a-zA-Z0-9]', '', largestText)\n",
    "    \n",
    "    return cleanText, largestTextConfidence"
   ],
   "metadata": {
    "collapsed": false,
    "ExecuteTime": {
     "end_time": "2024-12-05T20:30:28.606515Z",
     "start_time": "2024-12-05T20:30:28.603321Z"
    }
   },
   "id": "df872b29fe3504dc",
   "execution_count": 2
  },
  {
   "cell_type": "code",
   "outputs": [
    {
     "name": "stdout",
     "output_type": "stream",
     "text": [
      "Plate Text: XLTAKZH\n",
      "Confidence: 0.19270969478583372\n"
     ]
    }
   ],
   "source": [
    "# Load image\n",
    "plateImage = cv2.imread('test-media/test1.jpg')\n",
    "grayImage = cv2.cvtColor(plateImage, cv2.COLOR_BGR2GRAY)\n",
    "\n",
    "# Otsu thresholding\n",
    "_, plateThresh = cv2.threshold(grayImage, 0, 255, cv2.THRESH_BINARY + cv2.THRESH_OTSU)\n",
    "kernel = cv2.getStructuringElement(cv2.MORPH_RECT, (1, 1))\n",
    "plateThresh = cv2.morphologyEx(plateThresh, cv2.MORPH_CLOSE, kernel)\n",
    "\n",
    "# Adaptive Threshold\n",
    "plateThresh = cv2.adaptiveThreshold(\n",
    "    plateThresh, 255, cv2.ADAPTIVE_THRESH_MEAN_C, \n",
    "    cv2.THRESH_BINARY, 21, 5)\n",
    "\n",
    "# Setup OCR reader\n",
    "reader = easyocr.Reader(['en'])\n",
    "\n",
    "# Use the function to read the largest text region\n",
    "plateText, confidence = readLargestPlateText(plateThresh, reader)\n",
    "\n",
    "# Display results\n",
    "print(f'Plate Text: {plateText}')\n",
    "print(f'Confidence: {confidence}')\n",
    "cv2.imshow(\"Thresholded Plate\", plateThresh)\n",
    "cv2.waitKey(0)\n",
    "cv2.destroyAllWindows()"
   ],
   "metadata": {
    "collapsed": false,
    "ExecuteTime": {
     "end_time": "2024-12-05T20:30:34.011024Z",
     "start_time": "2024-12-05T20:30:28.607027Z"
    }
   },
   "id": "23766a6c901ec04e",
   "execution_count": 3
  }
 ],
 "metadata": {
  "kernelspec": {
   "display_name": "Python 3",
   "language": "python",
   "name": "python3"
  },
  "language_info": {
   "codemirror_mode": {
    "name": "ipython",
    "version": 2
   },
   "file_extension": ".py",
   "mimetype": "text/x-python",
   "name": "python",
   "nbconvert_exporter": "python",
   "pygments_lexer": "ipython2",
   "version": "2.7.6"
  }
 },
 "nbformat": 4,
 "nbformat_minor": 5
}
