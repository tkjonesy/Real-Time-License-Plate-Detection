{
 "cells": [
  {
   "cell_type": "code",
   "execution_count": 112,
   "id": "initial_id",
   "metadata": {
    "collapsed": true,
    "ExecuteTime": {
     "end_time": "2024-12-06T01:36:23.110415Z",
     "start_time": "2024-12-06T01:36:23.108651Z"
    }
   },
   "outputs": [],
   "source": [
    "import cv2\n",
    "import easyocr\n",
    "import re\n",
    "import numpy as np"
   ]
  },
  {
   "cell_type": "code",
   "outputs": [],
   "source": [
    "def readLargestPlateText(plateThresh, reader):\n",
    "    result = reader.readtext(plateThresh)\n",
    "    \n",
    "    maxArea = 0\n",
    "    largestText = 'No Detection'\n",
    "    largestTextConfidence = 0\n",
    "    \n",
    "    for bbox, text, confidence in result:\n",
    "        print(text)\n",
    "        print(bbox)\n",
    "        # Get box Coords\n",
    "        x1, y1 = bbox[0]\n",
    "        x2, y2 = bbox[-2]\n",
    "        \n",
    "        # Calculate area\n",
    "        area = (x2 - x1) * (y2 - y1)\n",
    "        \n",
    "        # Update area if needed\n",
    "        if area > maxArea:\n",
    "            maxArea = area\n",
    "            largestText = text.upper()\n",
    "            largestTextConfidence = confidence\n",
    "            \n",
    "    # Remove non-alphanumeric characters\n",
    "    cleanText = re.sub(r'[^a-zA-Z0-9]', '', largestText)\n",
    "    \n",
    "    return cleanText, largestTextConfidence"
   ],
   "metadata": {
    "collapsed": false,
    "ExecuteTime": {
     "end_time": "2024-12-06T01:36:23.117201Z",
     "start_time": "2024-12-06T01:36:23.110415Z"
    }
   },
   "id": "df872b29fe3504dc",
   "execution_count": 113
  },
  {
   "cell_type": "code",
   "outputs": [
    {
     "name": "stdout",
     "output_type": "stream",
     "text": [
      "965C8NJ\n",
      "[[np.int32(63), np.int32(72)], [np.int32(622), np.int32(72)], [np.int32(622), np.int32(249)], [np.int32(63), np.int32(249)]]\n",
      "Plate Text: 965C8NJ\n",
      "Confidence: 0.18671133854640712\n"
     ]
    }
   ],
   "source": [
    "# Load image\n",
    "imageName = 'videograb.jpg'\n",
    "plateImage = cv2.imread(f'test-media/{imageName}')\n",
    "\n",
    "# Grayscale\n",
    "grayImage = cv2.cvtColor(plateImage, cv2.COLOR_BGR2GRAY)\n",
    "\n",
    "# Resize the image to 4x\n",
    "scale = 4.0\n",
    "resizedImage = cv2.resize(grayImage, None, fx=scale, fy=scale, interpolation=cv2.INTER_CUBIC)\n",
    "\n",
    "# Otsu thresholding\n",
    "_, plateThresh = cv2.threshold(resizedImage, 0, 255, cv2.THRESH_BINARY + cv2.THRESH_OTSU)\n",
    "# kernel = cv2.getStructuringElement(cv2.MORPH_RECT, (1, 1))\n",
    "# plateThresh = cv2.morphologyEx(plateThresh, cv2.MORPH_CLOSE, kernel)\n",
    "\n",
    "# # Save thresholding results\n",
    "# cv2.imwrite(f'test-media/{imageName.replace('.jpg', '')}Thresh.jpg', plateThresh)\n",
    "\n",
    "# Adaptive Threshold\n",
    "# plateThresh = cv2.adaptiveThreshold(\n",
    "#     plateThresh, 255, cv2.ADAPTIVE_THRESH_GAUSSIAN_C, \n",
    "#     cv2.THRESH_BINARY, 5, 10)\n",
    "\n",
    "# Setup OCR reader\n",
    "reader = easyocr.Reader(['en'])\n",
    "\n",
    "# Use the function to read the largest text region\n",
    "plateText, confidence = readLargestPlateText(plateThresh, reader)\n",
    "\n",
    "# Display results\n",
    "print(f'Plate Text: {plateText}')\n",
    "print(f'Confidence: {confidence}')\n",
    "cv2.imshow(\"Thresholded Plate\", plateThresh)\n",
    "cv2.waitKey(0)\n",
    "cv2.destroyAllWindows()"
   ],
   "metadata": {
    "collapsed": false,
    "ExecuteTime": {
     "end_time": "2024-12-06T01:36:37.194048Z",
     "start_time": "2024-12-06T01:36:23.117201Z"
    }
   },
   "id": "23766a6c901ec04e",
   "execution_count": 114
  }
 ],
 "metadata": {
  "kernelspec": {
   "display_name": "Python 3",
   "language": "python",
   "name": "python3"
  },
  "language_info": {
   "codemirror_mode": {
    "name": "ipython",
    "version": 2
   },
   "file_extension": ".py",
   "mimetype": "text/x-python",
   "name": "python",
   "nbconvert_exporter": "python",
   "pygments_lexer": "ipython2",
   "version": "2.7.6"
  }
 },
 "nbformat": 4,
 "nbformat_minor": 5
}
