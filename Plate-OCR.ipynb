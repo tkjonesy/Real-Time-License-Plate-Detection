{
 "cells": [
  {
   "cell_type": "code",
   "execution_count": 10,
   "id": "initial_id",
   "metadata": {
    "collapsed": true,
    "ExecuteTime": {
     "end_time": "2025-05-15T23:03:37.184517Z",
     "start_time": "2025-05-15T23:03:37.181499Z"
    }
   },
   "outputs": [],
   "source": [
    "import cv2\n",
    "import easyocr\n",
    "import re\n",
    "import numpy as np\n",
    "from paddleocr import PaddleOCR"
   ]
  },
  {
   "cell_type": "markdown",
   "source": [
    "# Paddle OCR"
   ],
   "metadata": {
    "collapsed": false
   },
   "id": "e289929c416f16c8"
  },
  {
   "cell_type": "code",
   "outputs": [],
   "source": [
    "def readPlateTextPaddleOCR(image, ocr):\n",
    "    result = ocr.ocr(image, cls=False)\n",
    "    \n",
    "    maxArea = 0\n",
    "    largestText = 'No Detection'\n",
    "    largestTextConfidence = 0\n",
    "    \n",
    "    # Loop through detections\n",
    "    for idx in range(len(result)):\n",
    "        res = result[idx]\n",
    "        for bbox, detect in res:\n",
    "    \n",
    "            # Get box Coords\n",
    "            x1, y1 = bbox[0]\n",
    "            x2, y2 = bbox[-2]\n",
    "            \n",
    "            # Calculate area\n",
    "            area = (x2 - x1) * (y2 - y1)\n",
    "            \n",
    "            # Update area if needed\n",
    "            if area > maxArea:\n",
    "                maxArea = area\n",
    "                largestText = detect[0].upper()\n",
    "                largestTextConfidence = detect[1]\n",
    "    \n",
    "        # Remove non-alphanumeric characters\n",
    "        cleanText = re.sub(r'[^a-zA-Z0-9]', '', largestText)\n",
    "    return cleanText, largestTextConfidence"
   ],
   "metadata": {
    "collapsed": false,
    "ExecuteTime": {
     "end_time": "2025-05-15T23:03:37.191332Z",
     "start_time": "2025-05-15T23:03:37.184517Z"
    }
   },
   "id": "47faad14142dab4e",
   "execution_count": 11
  },
  {
   "cell_type": "markdown",
   "source": [
    "## Easy OCR"
   ],
   "metadata": {
    "collapsed": false
   },
   "id": "d82830a68a768b99"
  },
  {
   "cell_type": "code",
   "outputs": [],
   "source": [
    "def readPlateTextEasyOCR(image, reader):\n",
    "    result = reader.readtext(image)\n",
    "    \n",
    "    maxArea = 0\n",
    "    largestText = 'No Detection'\n",
    "    largestTextConfidence = 0\n",
    "    \n",
    "    # Loop through detections\n",
    "    for idx in range(len(result)):\n",
    "        res = result[idx]\n",
    "        bbox = res[0]\n",
    "        detect = res[1]\n",
    "        conf = res[2]\n",
    "    \n",
    "        # Get box Coords\n",
    "        x1, y1 = bbox[0]\n",
    "        x2, y2 = bbox[-2]\n",
    "        \n",
    "        # Calculate area\n",
    "        area = (x2 - x1) * (y2 - y1)\n",
    "        \n",
    "        # Update area if needed\n",
    "        if area > maxArea:\n",
    "            maxArea = area\n",
    "            largestText = detect.upper()\n",
    "            largestTextConfidence = conf\n",
    "    \n",
    "    # Remove non-alphanumeric characters\n",
    "    cleanText = re.sub(r'[^a-zA-Z0-9]', '', largestText)\n",
    "    return cleanText, largestTextConfidence  "
   ],
   "metadata": {
    "collapsed": false,
    "ExecuteTime": {
     "end_time": "2025-05-15T23:03:37.198023Z",
     "start_time": "2025-05-15T23:03:37.191332Z"
    }
   },
   "id": "69a89548fc56db74",
   "execution_count": 12
  },
  {
   "cell_type": "markdown",
   "source": [
    "## Perform Tresholding"
   ],
   "metadata": {
    "collapsed": false
   },
   "id": "f0718cbb13508de"
  },
  {
   "cell_type": "code",
   "outputs": [],
   "source": [
    "def imageThreshold(image):\n",
    "    # Grayscale\n",
    "    grayImage = cv2.cvtColor(image.copy(), cv2.COLOR_BGR2GRAY)\n",
    "    \n",
    "    # Resize the image to 4x\n",
    "    # scale = 4\n",
    "    # resizedImage = cv2.resize(grayImage, None, fx=scale, fy=scale, interpolation=cv2.INTER_CUBIC)\n",
    "    \n",
    "    # Otsu thresholding\n",
    "    _, plateThresh = cv2.threshold(grayImage, 0, 255, cv2.THRESH_BINARY + cv2.THRESH_OTSU)\n",
    "    kernel = cv2.getStructuringElement(cv2.MORPH_RECT, (2, 2))\n",
    "    plateThresh = cv2.morphologyEx(plateThresh, cv2.MORPH_CLOSE, kernel)\n",
    "    \n",
    "    # Adaptive Threshold\n",
    "    # plateThresh = cv2.adaptiveThreshold(\n",
    "    #     plateThresh, 255, cv2.ADAPTIVE_THRESH_GAUSSIAN_C, \n",
    "    #     cv2.THRESH_BINARY, 5, 10)\n",
    "    \n",
    "    return plateThresh"
   ],
   "metadata": {
    "collapsed": false,
    "ExecuteTime": {
     "end_time": "2025-05-15T23:04:24.817230Z",
     "start_time": "2025-05-15T23:04:24.813856Z"
    }
   },
   "id": "46f6f7e2abaa394c",
   "execution_count": 18
  },
  {
   "cell_type": "markdown",
   "source": [
    "## Comparing Paddle OCR to Easy OCR"
   ],
   "metadata": {
    "collapsed": false
   },
   "id": "e8da36b27c5f6009"
  },
  {
   "cell_type": "code",
   "outputs": [
    {
     "name": "stdout",
     "output_type": "stream",
     "text": [
      "[2025/05/15 19:03:37] ppocr DEBUG: Namespace(help='==SUPPRESS==', use_gpu=False, use_xpu=False, use_npu=False, use_mlu=False, ir_optim=True, use_tensorrt=False, min_subgraph_size=15, precision='fp32', gpu_mem=500, gpu_id=0, image_dir=None, page_num=0, det_algorithm='DB', det_model_dir='C:\\\\Users\\\\Trever/.paddleocr/whl\\\\det\\\\en\\\\en_PP-OCRv3_det_infer', det_limit_side_len=960, det_limit_type='max', det_box_type='quad', det_db_thresh=0.3, det_db_box_thresh=0.6, det_db_unclip_ratio=1.5, max_batch_size=10, use_dilation=False, det_db_score_mode='fast', det_east_score_thresh=0.8, det_east_cover_thresh=0.1, det_east_nms_thresh=0.2, det_sast_score_thresh=0.5, det_sast_nms_thresh=0.2, det_pse_thresh=0, det_pse_box_thresh=0.85, det_pse_min_area=16, det_pse_scale=1, scales=[8, 16, 32], alpha=1.0, beta=1.0, fourier_degree=5, rec_algorithm='SVTR_LCNet', rec_model_dir='C:\\\\Users\\\\Trever/.paddleocr/whl\\\\rec\\\\en\\\\en_PP-OCRv4_rec_infer', rec_image_inverse=True, rec_image_shape='3, 48, 320', rec_batch_num=6, max_text_length=25, rec_char_dict_path='C:\\\\Users\\\\Trever\\\\PycharmProjects\\\\Real-Time-License-Plate-Detection\\\\.venv\\\\Lib\\\\site-packages\\\\paddleocr\\\\ppocr\\\\utils\\\\en_dict.txt', use_space_char=True, vis_font_path='./doc/fonts/simfang.ttf', drop_score=0.5, e2e_algorithm='PGNet', e2e_model_dir=None, e2e_limit_side_len=768, e2e_limit_type='max', e2e_pgnet_score_thresh=0.5, e2e_char_dict_path='./ppocr/utils/ic15_dict.txt', e2e_pgnet_valid_set='totaltext', e2e_pgnet_mode='fast', use_angle_cls=False, cls_model_dir='C:\\\\Users\\\\Trever/.paddleocr/whl\\\\cls\\\\ch_ppocr_mobile_v2.0_cls_infer', cls_image_shape='3, 48, 192', label_list=['0', '180'], cls_batch_num=6, cls_thresh=0.9, enable_mkldnn=False, cpu_threads=10, use_pdserving=False, warmup=False, sr_model_dir=None, sr_image_shape='3, 32, 128', sr_batch_num=1, draw_img_save_dir='./inference_results', save_crop_res=False, crop_res_save_dir='./output', use_mp=False, total_process_num=1, process_id=0, benchmark=False, save_log_path='./log_output/', show_log=True, use_onnx=False, return_word_box=False, output='./output', table_max_len=488, table_algorithm='TableAttn', table_model_dir=None, merge_no_span_structure=True, table_char_dict_path=None, formula_algorithm='LaTeXOCR', formula_model_dir=None, formula_char_dict_path=None, formula_batch_num=1, layout_model_dir=None, layout_dict_path=None, layout_score_threshold=0.5, layout_nms_threshold=0.5, kie_algorithm='LayoutXLM', ser_model_dir=None, re_model_dir=None, use_visual_backbone=True, ser_dict_path='../train_data/XFUND/class_list_xfun.txt', ocr_order_method=None, mode='structure', image_orientation=False, layout=True, table=True, formula=False, ocr=True, recovery=False, recovery_to_markdown=False, use_pdf2docx_api=False, invert=False, binarize=False, alphacolor=(255, 255, 255), lang='en', det=True, rec=True, type='ocr', savefile=False, ocr_version='PP-OCRv4', structure_version='PP-StructureV2')\n"
     ]
    }
   ],
   "source": [
    "# Setup OCRs\n",
    "paddleOCR = PaddleOCR(lang='en')\n",
    "easyOCR = easyocr.Reader(['en'])"
   ],
   "metadata": {
    "collapsed": false,
    "ExecuteTime": {
     "end_time": "2025-05-15T23:03:39.235325Z",
     "start_time": "2025-05-15T23:03:37.204454Z"
    }
   },
   "id": "69d5847a228d1157",
   "execution_count": 14
  },
  {
   "cell_type": "code",
   "outputs": [
    {
     "name": "stdout",
     "output_type": "stream",
     "text": [
      "[2025/05/15 19:04:28] ppocr DEBUG: dt_boxes num : 3, elapsed : 0.009554147720336914\n",
      "[2025/05/15 19:04:28] ppocr DEBUG: rec_res num  : 3, elapsed : 0.03430938720703125\n",
      "Easy OCR Results:\n",
      "Plate Text: XITCKZH\n",
      "Confidence: 0.32806405186070764\n",
      "\n",
      "Paddle OCR Results:\n",
      "Plate Text: X17KZH\n",
      "Confidence: 0.9568066000938416\n"
     ]
    }
   ],
   "source": [
    "# Load image\n",
    "imageName = 'test1.jpg'\n",
    "plateImage = cv2.imread(f'test-media/{imageName}')\n",
    "\n",
    "# Perform thresholding\n",
    "imageThresh = imageThreshold(plateImage)\n",
    "\n",
    "# Save thresholding results\n",
    "cv2.imwrite(f'test-media/{imageName.replace('.jpg', '')}Thresh.jpg', imageThresh)\n",
    "\n",
    "# Read the text and return largest text area\n",
    "plateTextEasyOCR, confidenceEasyOCR = readPlateTextEasyOCR(imageThresh, easyOCR)\n",
    "plateTextPaddleOCR, confidencePaddleOCR = readPlateTextPaddleOCR(imageThresh, paddleOCR)\n",
    "\n",
    "# Display resultsq\n",
    "print('Easy OCR Results:')\n",
    "print(f'Plate Text: {plateTextEasyOCR}')\n",
    "print(f'Confidence: {confidenceEasyOCR}\\n')\n",
    "print('Paddle OCR Results:')\n",
    "print(f'Plate Text: {plateTextPaddleOCR}')\n",
    "print(f'Confidence: {confidencePaddleOCR}\\n')\n",
    "cv2.imshow('Image Threshold', imageThresh)\n",
    "cv2.waitKey(0)\n",
    "cv2.destroyAllWindows()"
   ],
   "metadata": {
    "collapsed": false,
    "ExecuteTime": {
     "end_time": "2025-05-15T23:04:32.501725Z",
     "start_time": "2025-05-15T23:04:28.013590Z"
    }
   },
   "id": "f8553b5a455cd0de",
   "execution_count": 19
  }
 ],
 "metadata": {
  "kernelspec": {
   "display_name": "Python 3",
   "language": "python",
   "name": "python3"
  },
  "language_info": {
   "codemirror_mode": {
    "name": "ipython",
    "version": 2
   },
   "file_extension": ".py",
   "mimetype": "text/x-python",
   "name": "python",
   "nbconvert_exporter": "python",
   "pygments_lexer": "ipython2",
   "version": "2.7.6"
  }
 },
 "nbformat": 4,
 "nbformat_minor": 5
}
