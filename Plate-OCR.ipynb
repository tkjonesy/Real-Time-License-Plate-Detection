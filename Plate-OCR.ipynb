{
 "cells": [
  {
   "cell_type": "code",
   "execution_count": 71,
   "id": "initial_id",
   "metadata": {
    "collapsed": true,
    "ExecuteTime": {
     "end_time": "2024-12-08T02:32:32.177026Z",
     "start_time": "2024-12-08T02:32:32.174783Z"
    }
   },
   "outputs": [],
   "source": [
    "import cv2\n",
    "import easyocr\n",
    "import re\n",
    "import numpy as np\n",
    "from paddleocr import PaddleOCR"
   ]
  },
  {
   "cell_type": "markdown",
   "source": [
    "# Paddle OCR"
   ],
   "metadata": {
    "collapsed": false
   },
   "id": "e289929c416f16c8"
  },
  {
   "cell_type": "code",
   "outputs": [],
   "source": [
    "def readPlateText(plateImage, ocr):\n",
    "    result = ocr.ocr(plateImage, cls=False)\n",
    "    \n",
    "    maxArea = 0\n",
    "    largestText = 'No Detection'\n",
    "    largestTextConfidence = 0\n",
    "    \n",
    "    # Loop through detections\n",
    "    for idx in range(len(result)):\n",
    "        res = result[idx]\n",
    "        for bbox, detect in res:\n",
    "    \n",
    "            # Get box Coords\n",
    "            x1, y1 = bbox[0]\n",
    "            x2, y2 = bbox[-2]\n",
    "            \n",
    "            # Calculate area\n",
    "            area = (x2 - x1) * (y2 - y1)\n",
    "            \n",
    "            # Update area if needed\n",
    "            if area > maxArea:\n",
    "                maxArea = area\n",
    "                largestText = detect[0].upper()\n",
    "                largestTextConfidence = detect[1]\n",
    "    \n",
    "        # Remove non-alphanumeric characters\n",
    "        cleanText = re.sub(r'[^a-zA-Z0-9]', '', largestText)\n",
    "    return largestText, largestTextConfidence      "
   ],
   "metadata": {
    "collapsed": false,
    "ExecuteTime": {
     "end_time": "2024-12-08T02:32:32.184042Z",
     "start_time": "2024-12-08T02:32:32.177026Z"
    }
   },
   "id": "47faad14142dab4e",
   "execution_count": 72
  },
  {
   "cell_type": "code",
   "outputs": [
    {
     "name": "stdout",
     "output_type": "stream",
     "text": [
      "[2024/12/07 21:32:32] ppocr DEBUG: Namespace(help='==SUPPRESS==', use_gpu=False, use_xpu=False, use_npu=False, use_mlu=False, ir_optim=True, use_tensorrt=False, min_subgraph_size=15, precision='fp32', gpu_mem=500, gpu_id=0, image_dir=None, page_num=0, det_algorithm='DB', det_model_dir='C:\\\\Users\\\\Trever/.paddleocr/whl\\\\det\\\\en\\\\en_PP-OCRv3_det_infer', det_limit_side_len=960, det_limit_type='max', det_box_type='quad', det_db_thresh=0.3, det_db_box_thresh=0.6, det_db_unclip_ratio=1.5, max_batch_size=10, use_dilation=False, det_db_score_mode='fast', det_east_score_thresh=0.8, det_east_cover_thresh=0.1, det_east_nms_thresh=0.2, det_sast_score_thresh=0.5, det_sast_nms_thresh=0.2, det_pse_thresh=0, det_pse_box_thresh=0.85, det_pse_min_area=16, det_pse_scale=1, scales=[8, 16, 32], alpha=1.0, beta=1.0, fourier_degree=5, rec_algorithm='SVTR_LCNet', rec_model_dir='C:\\\\Users\\\\Trever/.paddleocr/whl\\\\rec\\\\en\\\\en_PP-OCRv4_rec_infer', rec_image_inverse=True, rec_image_shape='3, 48, 320', rec_batch_num=6, max_text_length=25, rec_char_dict_path='C:\\\\Users\\\\Trever\\\\PycharmProjects\\\\Real-Time-License-Plate-Detection\\\\.venv\\\\Lib\\\\site-packages\\\\paddleocr\\\\ppocr\\\\utils\\\\en_dict.txt', use_space_char=True, vis_font_path='./doc/fonts/simfang.ttf', drop_score=0.5, e2e_algorithm='PGNet', e2e_model_dir=None, e2e_limit_side_len=768, e2e_limit_type='max', e2e_pgnet_score_thresh=0.5, e2e_char_dict_path='./ppocr/utils/ic15_dict.txt', e2e_pgnet_valid_set='totaltext', e2e_pgnet_mode='fast', use_angle_cls=False, cls_model_dir='C:\\\\Users\\\\Trever/.paddleocr/whl\\\\cls\\\\ch_ppocr_mobile_v2.0_cls_infer', cls_image_shape='3, 48, 192', label_list=['0', '180'], cls_batch_num=6, cls_thresh=0.9, enable_mkldnn=False, cpu_threads=10, use_pdserving=False, warmup=False, sr_model_dir=None, sr_image_shape='3, 32, 128', sr_batch_num=1, draw_img_save_dir='./inference_results', save_crop_res=False, crop_res_save_dir='./output', use_mp=False, total_process_num=1, process_id=0, benchmark=False, save_log_path='./log_output/', show_log=True, use_onnx=False, return_word_box=False, output='./output', table_max_len=488, table_algorithm='TableAttn', table_model_dir=None, merge_no_span_structure=True, table_char_dict_path=None, formula_algorithm='LaTeXOCR', formula_model_dir=None, formula_char_dict_path=None, formula_batch_num=1, layout_model_dir=None, layout_dict_path=None, layout_score_threshold=0.5, layout_nms_threshold=0.5, kie_algorithm='LayoutXLM', ser_model_dir=None, re_model_dir=None, use_visual_backbone=True, ser_dict_path='../train_data/XFUND/class_list_xfun.txt', ocr_order_method=None, mode='structure', image_orientation=False, layout=True, table=True, formula=False, ocr=True, recovery=False, recovery_to_markdown=False, use_pdf2docx_api=False, invert=False, binarize=False, alphacolor=(255, 255, 255), lang='en', det=True, rec=True, type='ocr', savefile=False, ocr_version='PP-OCRv4', structure_version='PP-StructureV2')\n",
      "[2024/12/07 21:32:32] ppocr DEBUG: dt_boxes num : 5, elapsed : 0.01808476448059082\n",
      "[2024/12/07 21:32:32] ppocr DEBUG: rec_res num  : 5, elapsed : 0.04765605926513672\n",
      "Plate Text: CHRGN\n",
      "Confidence: 0.9961768388748169\n"
     ]
    }
   ],
   "source": [
    "# Load image\n",
    "imageName = 'test5.jpg'\n",
    "plateImage = cv2.imread(f'test-media/{imageName}')\n",
    "ocr = PaddleOCR(lang='en')\n",
    "\n",
    "# Use the function to read the largest text region\n",
    "plateText, confidence = readPlateText(plateImage, ocr)\n",
    "\n",
    "# Display results\n",
    "print(f'Plate Text: {plateText}')\n",
    "print(f'Confidence: {confidence}')\n",
    "cv2.imshow('Plate Image', plateImage)\n",
    "cv2.waitKey(0)\n",
    "cv2.destroyAllWindows()"
   ],
   "metadata": {
    "collapsed": false,
    "ExecuteTime": {
     "end_time": "2024-12-08T02:32:41.776311Z",
     "start_time": "2024-12-08T02:32:32.184042Z"
    }
   },
   "id": "69d5847a228d1157",
   "execution_count": 73
  },
  {
   "cell_type": "code",
   "outputs": [
    {
     "ename": "NameError",
     "evalue": "name 'plateThresh' is not defined",
     "output_type": "error",
     "traceback": [
      "\u001B[1;31m---------------------------------------------------------------------------\u001B[0m",
      "\u001B[1;31mNameError\u001B[0m                                 Traceback (most recent call last)",
      "Cell \u001B[1;32mIn[74], line 25\u001B[0m\n\u001B[0;32m      1\u001B[0m \u001B[38;5;66;03m# # Grayscale\u001B[39;00m\n\u001B[0;32m      2\u001B[0m \u001B[38;5;66;03m# grayImage = cv2.cvtColor(plateImage, cv2.COLOR_BGR2GRAY)\u001B[39;00m\n\u001B[0;32m      3\u001B[0m \u001B[38;5;66;03m# \u001B[39;00m\n\u001B[1;32m   (...)\u001B[0m\n\u001B[0;32m     23\u001B[0m \u001B[38;5;66;03m# \u001B[39;00m\n\u001B[0;32m     24\u001B[0m \u001B[38;5;66;03m# Use the function to read the largest text region\u001B[39;00m\n\u001B[1;32m---> 25\u001B[0m plateText, confidence \u001B[38;5;241m=\u001B[39m easyOCRDetect(\u001B[43mplateThresh\u001B[49m, reader)\n\u001B[0;32m     27\u001B[0m \u001B[38;5;66;03m# Display results\u001B[39;00m\n\u001B[0;32m     28\u001B[0m \u001B[38;5;28mprint\u001B[39m(\u001B[38;5;124mf\u001B[39m\u001B[38;5;124m'\u001B[39m\u001B[38;5;124mPlate Text: \u001B[39m\u001B[38;5;132;01m{\u001B[39;00mplateText\u001B[38;5;132;01m}\u001B[39;00m\u001B[38;5;124m'\u001B[39m)\n",
      "\u001B[1;31mNameError\u001B[0m: name 'plateThresh' is not defined"
     ]
    }
   ],
   "source": [
    "# # Grayscale\n",
    "# grayImage = cv2.cvtColor(plateImage, cv2.COLOR_BGR2GRAY)\n",
    "# \n",
    "# # Resize the image to 4x\n",
    "# scale = 4\n",
    "# resizedImage = cv2.resize(grayImage, None, fx=scale, fy=scale, interpolation=cv2.INTER_CUBIC)\n",
    "# \n",
    "# # Otsu thresholding\n",
    "# _, plateThresh = cv2.threshold(resizedImage, 0, 255, cv2.THRESH_BINARY + cv2.THRESH_OTSU)\n",
    "# # kernel = cv2.getStructuringElement(cv2.MORPH_RECT, (1, 1))\n",
    "# # plateThresh = cv2.morphologyEx(plateThresh, cv2.MORPH_CLOSE, kernel)\n",
    "# \n",
    "# # # Save thresholding results\n",
    "# # cv2.imwrite(f'test-media/{imageName.replace('.jpg', '')}Thresh.jpg', plateThresh)\n",
    "# \n",
    "# # Adaptive Threshold\n",
    "# # plateThresh = cv2.adaptiveThreshold(\n",
    "# #     plateThresh, 255, cv2.ADAPTIVE_THRESH_GAUSSIAN_C, \n",
    "# #     cv2.THRESH_BINARY, 5, 10)\n",
    "# \n",
    "# # Setup OCR reader\n",
    "# reader = easyocr.Reader(['en'])\n",
    "# \n",
    "# Use the function to read the largest text region\n",
    "plateText, confidence = easyOCRDetect(plateThresh, reader)\n",
    "\n",
    "# Display results\n",
    "print(f'Plate Text: {plateText}')\n",
    "print(f'Confidence: {confidence}')\n",
    "cv2.imshow(\"Thresholded Plate\", plateThresh)\n",
    "cv2.waitKey(0)\n",
    "cv2.destroyAllWindows()"
   ],
   "metadata": {
    "collapsed": false,
    "ExecuteTime": {
     "end_time": "2024-12-08T02:32:42.082201Z",
     "start_time": "2024-12-08T02:32:41.776311Z"
    }
   },
   "id": "23766a6c901ec04e",
   "execution_count": 74
  }
 ],
 "metadata": {
  "kernelspec": {
   "display_name": "Python 3",
   "language": "python",
   "name": "python3"
  },
  "language_info": {
   "codemirror_mode": {
    "name": "ipython",
    "version": 2
   },
   "file_extension": ".py",
   "mimetype": "text/x-python",
   "name": "python",
   "nbconvert_exporter": "python",
   "pygments_lexer": "ipython2",
   "version": "2.7.6"
  }
 },
 "nbformat": 4,
 "nbformat_minor": 5
}
