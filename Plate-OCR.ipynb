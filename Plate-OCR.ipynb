{
 "cells": [
  {
   "cell_type": "code",
   "execution_count": 4,
   "id": "initial_id",
   "metadata": {
    "collapsed": true,
    "ExecuteTime": {
     "end_time": "2024-12-05T14:43:28.232402Z",
     "start_time": "2024-12-05T14:43:28.229781Z"
    }
   },
   "outputs": [],
   "source": [
    "import cv2\n",
    "import pytesseract\n",
    "import re"
   ]
  },
  {
   "cell_type": "code",
   "outputs": [],
   "source": [
    "def readLargestPlateText(plateThresh):\n",
    "    # Find contours\n",
    "    contours, _ = cv2.findContours(plateThresh, cv2.RETR_EXTERNAL, cv2.CHAIN_APPROX_SIMPLE)\n",
    "    boundingBoxes = [cv2.boundingRect(c) for c in contours]\n",
    "\n",
    "    # Sort bounding boxes by area (descending)\n",
    "    boundingBoxes = sorted(boundingBoxes, key=lambda box: box[2] * box[3], reverse=True)\n",
    "\n",
    "    # Filter bounding boxes by size and aspect ratio\n",
    "    filteredBoxes = [\n",
    "        (x, y, w, h) for (x, y, w, h) in boundingBoxes\n",
    "        if 2 < w/h < 8 and w * h > 500  # Adjust thresholds as needed\n",
    "    ]\n",
    "\n",
    "    if not filteredBoxes:\n",
    "        return None\n",
    "\n",
    "    # Get the largest valid region\n",
    "    x, y, w, h = filteredBoxes[0]\n",
    "    largestTextRegion = plateThresh[y:y+h, x:x+w]\n",
    "\n",
    "    # Use OCR to extract text\n",
    "    config = \"--psm 7\"\n",
    "    largestText = pytesseract.image_to_string(largestTextRegion, config=config, lang='eng')\n",
    "    cleanedText = re.sub(r'[^A-Z0-9]', '', largestText.upper())\n",
    "\n",
    "    return cleanedText"
   ],
   "metadata": {
    "collapsed": false,
    "ExecuteTime": {
     "end_time": "2024-12-05T14:43:28.239795Z",
     "start_time": "2024-12-05T14:43:28.232402Z"
    }
   },
   "id": "c273c20438b32226",
   "execution_count": 5
  },
  {
   "cell_type": "code",
   "outputs": [
    {
     "name": "stdout",
     "output_type": "stream",
     "text": [
      "Plate Text: None\n"
     ]
    }
   ],
   "source": [
    "# Load image\n",
    "plateImage = cv2.imread('test-media/test1.jpg')\n",
    "grayImage = cv2.cvtColor(plateImage, cv2.COLOR_BGR2GRAY)\n",
    "\n",
    "# Apply Otsu thresholding\n",
    "_, plateThresh = cv2.threshold(grayImage, 64, 255, cv2.THRESH_BINARY + cv2.THRESH_OTSU)\n",
    "\n",
    "# Use the function to read the largest text region\n",
    "plateText = readLargestPlateText(plateThresh)\n",
    "\n",
    "# Display results\n",
    "print(f'Plate Text: {plateText}')\n",
    "cv2.imshow(\"Thresholded Plate\", plateThresh)\n",
    "cv2.waitKey(0)\n",
    "cv2.destroyAllWindows()"
   ],
   "metadata": {
    "collapsed": false,
    "ExecuteTime": {
     "end_time": "2024-12-05T14:43:31.322237Z",
     "start_time": "2024-12-05T14:43:28.239795Z"
    }
   },
   "id": "23766a6c901ec04e",
   "execution_count": 6
  }
 ],
 "metadata": {
  "kernelspec": {
   "display_name": "Python 3",
   "language": "python",
   "name": "python3"
  },
  "language_info": {
   "codemirror_mode": {
    "name": "ipython",
    "version": 2
   },
   "file_extension": ".py",
   "mimetype": "text/x-python",
   "name": "python",
   "nbconvert_exporter": "python",
   "pygments_lexer": "ipython2",
   "version": "2.7.6"
  }
 },
 "nbformat": 4,
 "nbformat_minor": 5
}
