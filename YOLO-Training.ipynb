{
 "cells": [
  {
   "cell_type": "code",
   "outputs": [],
   "source": [
    "from ultralytics import YOLO\n",
    "import torch"
   ],
   "metadata": {
    "collapsed": false,
    "ExecuteTime": {
     "end_time": "2024-12-06T04:54:07.540629Z",
     "start_time": "2024-12-06T04:54:07.510815Z"
    }
   },
   "id": "decf0677d2504099",
   "execution_count": 7
  },
  {
   "cell_type": "code",
   "outputs": [],
   "source": [
    "print(torch.cuda.is_available())  # Should return True if CUDA is available\n",
    "print(torch.cuda.get_device_name(0))  # Prints the name of your GPU"
   ],
   "metadata": {
    "collapsed": false
   },
   "id": "d3fc97c5d7b9357d",
   "execution_count": null
  },
  {
   "cell_type": "code",
   "outputs": [],
   "source": [
    "# Load model\n",
    "model = YOLO('yolo11m.pt')"
   ],
   "metadata": {
    "collapsed": false,
    "ExecuteTime": {
     "end_time": "2024-12-06T04:54:07.683257Z",
     "start_time": "2024-12-06T04:54:07.551550Z"
    }
   },
   "id": "881c93e6b2264608",
   "execution_count": 9
  },
  {
   "cell_type": "code",
   "outputs": [],
   "source": [
    "# # Tune hyperparameters\n",
    "# model.tune(\n",
    "#     data='C:/Users/Trever/PycharmProjects/Real-Time-License-Plate-Detection/dataset/data.yaml',\n",
    "#     epochs=30,\n",
    "#     iterations=100,\n",
    "#     device=0,\n",
    "#     optimizer=\"AdamW\",\n",
    "#     save=True,\n",
    "#     plots=True,\n",
    "#     val=False\n",
    "# )"
   ],
   "metadata": {
    "collapsed": false,
    "ExecuteTime": {
     "end_time": "2024-12-06T04:54:07.685940Z",
     "start_time": "2024-12-06T04:54:07.683257Z"
    }
   },
   "id": "87f84869753def2c",
   "execution_count": 10
  },
  {
   "cell_type": "code",
   "outputs": [],
   "source": [
    "# Train model\n",
    "trainResults = model.train(\n",
    "    data='C:/Users/Trever/PycharmProjects/Real-Time-License-Plate-Detection/dataset/data.yaml',\n",
    "    epochs=100, \n",
    "    imgsz=640, \n",
    "    augment=False, \n",
    "    device=0,\n",
    "    batch=0.7,\n",
    "    seed=42\n",
    ")"
   ],
   "metadata": {
    "collapsed": false
   },
   "id": "6de322db67d8ead1",
   "execution_count": null
  },
  {
   "cell_type": "code",
   "outputs": [],
   "source": [
    "# Evaluate model on validation set\n",
    "metrics = model.val()\n",
    "metrics.maps"
   ],
   "metadata": {
    "collapsed": false
   },
   "id": "34d43dc08371722c",
   "execution_count": null
  }
 ],
 "metadata": {
  "kernelspec": {
   "display_name": "Python 3",
   "language": "python",
   "name": "python3"
  },
  "language_info": {
   "codemirror_mode": {
    "name": "ipython",
    "version": 2
   },
   "file_extension": ".py",
   "mimetype": "text/x-python",
   "name": "python",
   "nbconvert_exporter": "python",
   "pygments_lexer": "ipython2",
   "version": "2.7.6"
  }
 },
 "nbformat": 4,
 "nbformat_minor": 5
}
