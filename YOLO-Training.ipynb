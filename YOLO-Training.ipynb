{
 "cells": [
  {
   "cell_type": "code",
   "outputs": [],
   "source": [
    "from ultralytics import YOLO\n",
    "import torch"
   ],
   "metadata": {
    "collapsed": false,
    "ExecuteTime": {
     "end_time": "2024-11-07T16:37:18.503446400Z",
     "start_time": "2024-11-07T16:37:15.810093900Z"
    }
   },
   "id": "decf0677d2504099",
   "execution_count": 1
  },
  {
   "cell_type": "code",
   "outputs": [],
   "source": [
    "print(torch.cuda.is_available())  # Should return True if CUDA is available\n",
    "print(torch.cuda.get_device_name(0))  # Prints the name of your GPU"
   ],
   "metadata": {
    "collapsed": false
   },
   "id": "d3fc97c5d7b9357d",
   "execution_count": null
  },
  {
   "cell_type": "code",
   "outputs": [],
   "source": [
    "# Load model\n",
    "model = YOLO('yolo11m.pt')"
   ],
   "metadata": {
    "collapsed": false,
    "ExecuteTime": {
     "end_time": "2024-11-07T16:37:18.591587500Z",
     "start_time": "2024-11-07T16:37:18.523431200Z"
    }
   },
   "id": "881c93e6b2264608",
   "execution_count": 3
  },
  {
   "cell_type": "code",
   "outputs": [],
   "source": [
    "trainResults = model.train(data='C:/Users/Trever/PycharmProjects/Real-Time-License-Plate-Detection/dataset/data.yaml', epochs=50, imgsz=640, augment=False, device=0)"
   ],
   "metadata": {
    "collapsed": false
   },
   "id": "6de322db67d8ead1",
   "execution_count": null
  },
  {
   "cell_type": "code",
   "outputs": [],
   "source": [
    "metrics = model.val()\n",
    "metrics.maps"
   ],
   "metadata": {
    "collapsed": false
   },
   "id": "34d43dc08371722c",
   "execution_count": null
  }
 ],
 "metadata": {
  "kernelspec": {
   "display_name": "Python 3",
   "language": "python",
   "name": "python3"
  },
  "language_info": {
   "codemirror_mode": {
    "name": "ipython",
    "version": 2
   },
   "file_extension": ".py",
   "mimetype": "text/x-python",
   "name": "python",
   "nbconvert_exporter": "python",
   "pygments_lexer": "ipython2",
   "version": "2.7.6"
  }
 },
 "nbformat": 4,
 "nbformat_minor": 5
}
