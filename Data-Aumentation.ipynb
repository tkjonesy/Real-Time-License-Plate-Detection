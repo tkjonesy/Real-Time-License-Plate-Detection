{
 "cells": [
  {
   "cell_type": "code",
   "execution_count": 11,
   "id": "initial_id",
   "metadata": {
    "collapsed": true,
    "ExecuteTime": {
     "end_time": "2024-11-07T16:34:19.995377900Z",
     "start_time": "2024-11-07T16:34:19.987964500Z"
    }
   },
   "outputs": [],
   "source": [
    "import albumentations as A\n",
    "import cv2 as cv\n",
    "import os"
   ]
  },
  {
   "cell_type": "code",
   "outputs": [],
   "source": [
    "'''\n",
    "Reads in a text file as a list of lists for data augmentation\n",
    "Expects a filepath to the text file and the delimiter\n",
    "'''\n",
    "def readList(filepath, delimiter=','):\n",
    "    output = []\n",
    "    with open(filepath, 'r') as f:\n",
    "        for line in f:\n",
    "            output.append(line.strip().split(delimiter))\n",
    "        return output\n",
    "    \n",
    "'''\n",
    "Takes list of lists and separates class label from bounding box\n",
    "Expects a list of bounding boxes:\n",
    "where index 0 is the class label,\n",
    "and the bounding boxes are eligible to be converted to a float\n",
    "example of a labels:\n",
    "[['0', '0.1859375', '0.49296875', '0.14453125', '0.959375'],\n",
    " ['0', '0.39375', '0.496875', '0.140625', '0.96015625'],\n",
    " ['0', '0.60546875', '0.496875', '0.1421875', '0.96796875'],\n",
    " ['0', '0.81328125', '0.4984375', '0.1421875', '0.9671875']]\n",
    "'''\n",
    "def processLabels(labels):\n",
    "    classLabels = []\n",
    "    bboxes = []\n",
    "    for box in labels:\n",
    "        classLabels.append(box[0])\n",
    "        box.pop(0)\n",
    "        bboxes.append([float(i) for i in box])\n",
    "    return classLabels, bboxes\n",
    "\n",
    "'''\n",
    "Takes an image bounding boxes and classLabels and draws them on the image\n",
    "'''\n",
    "def drawBoundingBox(img, bboxes, classLabels):\n",
    "    h, w, _ = img.shape\n",
    "    \n",
    "    for i, box in enumerate(bboxes):\n",
    "        x_center, y_center, box_width, box_height = box\n",
    "        x_min = int((x_center - box_width / 2) * w)\n",
    "        y_min = int((y_center - box_height / 2) * h)\n",
    "        x_max = int((x_center + box_width / 2) * w)\n",
    "        y_max = int((y_center + box_height / 2) * h)\n",
    "    \n",
    "        # Draw the bounding box\n",
    "        cv.rectangle(img, (x_min, y_min), (x_max, y_max), (0, 0, 255), 2)\n",
    "    \n",
    "        # Calculate the position for the class label\n",
    "        label_x = x_min\n",
    "        label_y = y_min - 10  # Move slightly higher above the bounding box\n",
    "    \n",
    "        # If the label is too close to the top, place it below the box instead\n",
    "        if label_y < 10:\n",
    "            label_y = y_min + 20\n",
    "    \n",
    "        # Add the class label with reduced thickness\n",
    "        cv.putText(img, classLabels[i], (label_x, label_y), cv.FONT_HERSHEY_DUPLEX, 0.5, (0, 0, 255), 1)  # Reduce thickness to 1\n",
    "    \n",
    "    return img\n",
    "\n",
    "'''\n",
    "Combines each element from A into the first index of each list in B\n",
    "A should be a list\n",
    "B should be a list of lists\n",
    "A and B should be the same length\n",
    "'''\n",
    "def combineLists(A, B):\n",
    "    result = []\n",
    "    for a, b in zip(A, B):\n",
    "        combined = [a] + b\n",
    "        result.append(combined)\n",
    "    return result"
   ],
   "metadata": {
    "collapsed": false,
    "ExecuteTime": {
     "end_time": "2024-11-07T16:34:20.008143200Z",
     "start_time": "2024-11-07T16:34:19.997398200Z"
    }
   },
   "id": "647071306dc79d11",
   "execution_count": 12
  },
  {
   "cell_type": "markdown",
   "source": [
    "## Transform Single Image"
   ],
   "metadata": {
    "collapsed": false
   },
   "id": "13894976ba2a814a"
  },
  {
   "cell_type": "code",
   "outputs": [],
   "source": [
    "# # Read in image\n",
    "# img = cv.imread('Similar Fork.v2i.yolov11/train/images/ABCT3883_JPEG.rf.0107c459d147343004a61a3820436508.jpg')\n",
    "# \n",
    "# # Read in bounding box\n",
    "# labels = readList('Similar Fork.v2i.yolov11/train/labels/ABCT3883_JPEG.rf.0107c459d147343004a61a3820436508.txt', ' ')\n",
    "# \n",
    "# # Separate class label from bounding boxes\n",
    "# classLabels, bboxes = processLabels(labels)\n",
    "# \n",
    "# print(classLabels)\n",
    "# print(bboxes)\n",
    "# \n",
    "# # Draw original bounding box\n",
    "# origImg = drawBoundingBox(img.copy(), bboxes, classLabels)\n",
    "# cv.imshow('original img', origImg)\n",
    "# cv.waitKey(1)\n",
    "# \n",
    "# # Pipline for augmentation\n",
    "# transform = A.Compose([\n",
    "#     A.HorizontalFlip(p=1),\n",
    "# ], bbox_params=A.BboxParams(format='yolo', label_fields=['classLabels']))\n",
    "# \n",
    "# # Perform transformation\n",
    "# transformed = transform(image=img, bboxes=bboxes, classLabels=classLabels)\n",
    "# transformedImage = transformed['image']\n",
    "# transformedBBoxes = transformed['bboxes']\n",
    "# transformedClassLabels = transformed['classLabels']\n",
    "# \n",
    "# # Show the transformed image and bounding boxes\n",
    "# newImage = drawBoundingBox(transformedImage, transformedBBoxes, transformedClassLabels)\n",
    "# cv.imshow('transformed img', newImage)\n",
    "# cv.waitKey(0)\n",
    "# cv.destroyAllWindows()"
   ],
   "metadata": {
    "collapsed": false,
    "ExecuteTime": {
     "end_time": "2024-11-07T16:34:20.008143200Z",
     "start_time": "2024-11-07T16:34:20.001416700Z"
    }
   },
   "id": "236669c058fe7a45",
   "execution_count": 13
  },
  {
   "cell_type": "markdown",
   "source": [
    "## Mass Data Augmentation"
   ],
   "metadata": {
    "collapsed": false
   },
   "id": "6d83b8814e2f5515"
  },
  {
   "cell_type": "code",
   "outputs": [],
   "source": [
    "# Individual transforms to apply\n",
    "transforms = [\n",
    "    A.HorizontalFlip(p=1),\n",
    "    A.RandomBrightnessContrast(p=1),\n",
    "    A.RandomBrightnessContrast(p=1),\n",
    "    A.RandomBrightnessContrast(p=1),\n",
    "    A.VerticalFlip(p=1),\n",
    "    A.Blur(blur_limit=7, p=1),\n",
    "    A.GaussNoise(p=1),\n",
    "    A.CLAHE(p=1),\n",
    "    A.ChannelDropout(p=1),\n",
    "    A.ColorJitter(p=1),\n",
    "    A.Defocus(p=1),\n",
    "    A.Downscale(p=1),\n",
    "    A.Emboss(p=1),\n",
    "    A.GaussNoise(p=1, noise_scale_factor=.1),\n",
    "    # A.GlassBlur(p=1),\n",
    "    # A.InvertImg(p=1),\n",
    "    A.MedianBlur(p=1),\n",
    "    A.MotionBlur(p=1),\n",
    "    A.Posterize(p=1),\n",
    "    A.RGBShift(p=1),\n",
    "    # A.RandomGravel(p=1),\n",
    "    # A.RandomRain(p=1),\n",
    "    # A.RandomSnow(p=1),\n",
    "    # A.RandomSunFlare(p=1, src_radius=150),\n",
    "    A.Sharpen(p=1),\n",
    "    # A.Solarize(p=1),\n",
    "    A.Spatter(p=1),\n",
    "    A.Superpixels(p=1),\n",
    "    # A.ToGray(p=1),\n",
    "    # A.ToSepia(p=1),\n",
    "    # A.CoarseDropout(p=1, num_holes_range=(1, 500)),\n",
    "    A.Perspective(p=1),\n",
    "    # A.PixelDropout(p=1),\n",
    "]"
   ],
   "metadata": {
    "collapsed": false,
    "ExecuteTime": {
     "end_time": "2024-11-07T16:34:20.025856200Z",
     "start_time": "2024-11-07T16:34:20.010382600Z"
    }
   },
   "id": "515573d52cac2b7f",
   "execution_count": 14
  },
  {
   "cell_type": "code",
   "outputs": [],
   "source": [
    "# MAKE SURE THERE IS A '/' AT THE END OF THE FILE PATH\n",
    "TARGETIMGS = 'C:/Users/Trever/Desktop/Dataset/Versions/500x22/Similar Fork.v4i.yolov11/valid/images/'  # Location of images that need to be augmented\n",
    "TARGETLBS = 'C:/Users/Trever/Desktop/Dataset/Versions/500x22/Similar Fork.v4i.yolov11/valid/labels/' # Location of labels that need to be augmented\n",
    "DESTIMGS = 'C:/Users/Trever/Desktop/Dataset/Versions/500x22/Similar Fork.v4i.yolov11/valid/new_images/'  # Location of augmented images to be saved\n",
    "DESTILBS = 'C:/Users/Trever/Desktop/Dataset/Versions/500x22/Similar Fork.v4i.yolov11/valid/new_labels/'  # Location of augmented labels to be saved\n",
    "\n",
    "# Make lists with filenames\n",
    "imgFileNames = [f for f in sorted(os.listdir(TARGETIMGS))]\n",
    "labelFileNames = [f for f in sorted(os.listdir(TARGETLBS))]\n",
    "\n",
    "for i in range(len(imgFileNames)):\n",
    "    # Get each img and label\n",
    "    imgPath = TARGETIMGS + imgFileNames[i]\n",
    "    img = cv.imread(imgPath)\n",
    "    labels = readList(TARGETLBS + labelFileNames[i], ' ')\n",
    "    \n",
    "    # Separate class label from bounding boxes\n",
    "    classLabels, bboxes = processLabels(labels)\n",
    "    \n",
    "    # Draw original bounding box\n",
    "    # origImg = drawBoundingBox(img.copy(), bboxes, classLabels)\n",
    "    # cv.imshow('original img', origImg)\n",
    "    # cv.waitKey(0)\n",
    "    \n",
    "    try:\n",
    "        # Apply each transformation individually and save the results\n",
    "        for j, transform in enumerate(transforms):\n",
    "            compose = A.Compose([\n",
    "                transform,\n",
    "                ], bbox_params=A.BboxParams(format='yolo', label_fields=['classLabels']))\n",
    "            transformed = compose(image=img.copy(), bboxes=bboxes, classLabels=classLabels)\n",
    "            transformedImage = transformed['image']\n",
    "            transformedBBoxes = transformed['bboxes']\n",
    "            transformedClassLabels = transformed['classLabels']\n",
    "            \n",
    "            # Put class labels back in bounding boxes\n",
    "            transformedLabels = combineLists(transformedClassLabels, transformedBBoxes)\n",
    "        \n",
    "            # newImage = drawBoundingBox(transformedImage, transformedBBoxes, transformedClassLabels)\n",
    "            # cv.imshow(f'transform {j + 1}: {transform}', newImage)\n",
    "            # cv.waitKey(0)\n",
    "        \n",
    "            # Save the augmented image and labels\n",
    "            outputFileNameImg = f'{DESTIMGS}{imgFileNames[i].replace('.jpg', '')}{j}.jpg'\n",
    "            outputFileNameLabels = f'{DESTILBS}{labelFileNames[i].replace('.txt', '')}{j}.txt'\n",
    "            cv.imwrite(outputFileNameImg, transformedImage)\n",
    "    \n",
    "            # Write labels to file\n",
    "            with open(outputFileNameLabels, 'w') as f:\n",
    "                for row in transformedLabels:\n",
    "                    f.write(' '.join(map(str, row)) + '\\n')\n",
    "    except:\n",
    "        print(f'{imgFileNames[i]} could not be processed')\n",
    "    # cv.destroyAllWindows()"
   ],
   "metadata": {
    "collapsed": false,
    "ExecuteTime": {
     "end_time": "2024-11-07T16:36:07.097532500Z",
     "start_time": "2024-11-07T16:34:20.016926600Z"
    }
   },
   "id": "4716081d6271ac08",
   "execution_count": 15
  }
 ],
 "metadata": {
  "kernelspec": {
   "display_name": "Python 3",
   "language": "python",
   "name": "python3"
  },
  "language_info": {
   "codemirror_mode": {
    "name": "ipython",
    "version": 2
   },
   "file_extension": ".py",
   "mimetype": "text/x-python",
   "name": "python",
   "nbconvert_exporter": "python",
   "pygments_lexer": "ipython2",
   "version": "2.7.6"
  }
 },
 "nbformat": 4,
 "nbformat_minor": 5
}
