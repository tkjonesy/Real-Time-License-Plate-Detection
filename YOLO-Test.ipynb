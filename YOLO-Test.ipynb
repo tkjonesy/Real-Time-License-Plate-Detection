{
 "cells": [
  {
   "cell_type": "code",
   "execution_count": 1,
   "id": "initial_id",
   "metadata": {
    "collapsed": true,
    "ExecuteTime": {
     "end_time": "2024-11-13T15:17:03.637972600Z",
     "start_time": "2024-11-13T15:16:59.098491600Z"
    }
   },
   "outputs": [],
   "source": [
    "from ultralytics import YOLO\n",
    "import cv2 as cv"
   ]
  },
  {
   "cell_type": "markdown",
   "source": [
    "## Custom Trained Model"
   ],
   "metadata": {
    "collapsed": false
   },
   "id": "18cd958054a3d7c"
  },
  {
   "cell_type": "code",
   "outputs": [],
   "source": [
    "# Import model\n",
    "model = YOLO('best.pt')"
   ],
   "metadata": {
    "collapsed": false
   },
   "id": "9de7d4eb12f88d18",
   "execution_count": null
  },
  {
   "cell_type": "code",
   "outputs": [],
   "source": [
    "# Initialize the video capture\n",
    "cap = cv.VideoCapture(0)\n",
    "\n",
    "# Main loop for video capture and detection\n",
    "while True:\n",
    "    # Capture each frame from the webcam\n",
    "    ret, image = cap.read()\n",
    "    \n",
    "    if not ret:\n",
    "        print(\"Failed to grab frame\")\n",
    "        break\n",
    "    \n",
    "    # Run inference with the model\n",
    "    results = model(image, conf=0.8)\n",
    "\n",
    "    # Process detection results\n",
    "    for info in results:\n",
    "        for box in info.boxes:\n",
    "            # Move tensors to CPU and convert to numpy for processing\n",
    "            x1, y1, x2, y2 = box.xyxy[0].cpu().numpy().astype(int)\n",
    "            confidence = int(box.conf[0].cpu().numpy() * 100)\n",
    "            class_num = int(box.cls[0].cpu())\n",
    "            class_name = results[0].names[class_num]\n",
    "\n",
    "            # Draw bounding box, class name, and confidence\n",
    "            cv.rectangle(image, (x1, y1), (x2, y2), (0, 0, 255), 3)\n",
    "            cv.putText(image, f\"{class_name} {confidence}%\", (x1, y1 - 10),\n",
    "                       cv.FONT_HERSHEY_SIMPLEX, 0.6, (0, 255, 0), 2)\n",
    "\n",
    "    # Resize the output image to make the window larger\n",
    "    resized_image = cv.resize(image, (960, 720))  # Resize to desired dimensions\n",
    "\n",
    "    # Display the frame\n",
    "    cv.imshow('Object Detection', resized_image)\n",
    "\n",
    "    # Break on pressing 'q' key\n",
    "    if cv.waitKey(1) & 0xFF == ord('q'):\n",
    "        break\n",
    "\n",
    "# Release resources\n",
    "cap.release()\n",
    "cv.destroyAllWindows()"
   ],
   "metadata": {
    "collapsed": false
   },
   "id": "44d4c29edb614bf7",
   "execution_count": null
  }
 ],
 "metadata": {
  "kernelspec": {
   "display_name": "Python 3",
   "language": "python",
   "name": "python3"
  },
  "language_info": {
   "codemirror_mode": {
    "name": "ipython",
    "version": 2
   },
   "file_extension": ".py",
   "mimetype": "text/x-python",
   "name": "python",
   "nbconvert_exporter": "python",
   "pygments_lexer": "ipython2",
   "version": "2.7.6"
  }
 },
 "nbformat": 4,
 "nbformat_minor": 5
}
